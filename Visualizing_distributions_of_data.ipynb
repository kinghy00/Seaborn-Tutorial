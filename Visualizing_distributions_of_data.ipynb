{
 "cells": [
  {
   "cell_type": "markdown",
   "id": "0f4350a3",
   "metadata": {},
   "source": [
    "# Visualizing distributions of data"
   ]
  },
  {
   "cell_type": "markdown",
   "id": "f4740faa",
   "metadata": {},
   "source": [
    "- 변수가 어떻게 분포되어 있는지 이해하는 것은 데이터를 분석하거나 모델링하는 데 중요한 첫 단계입니다. \n",
    "- 분포 시각화 기법은 많은 중요한 질문에 빠른 대답을 제공할 수 있습니다. \n",
    "- 관측치들이 어떤 범위를 커버하는지, 중심 경향성이 어떤지, 한쪽 방향으로 심하게 치우쳤는지, 이중모드가 있는지의 여부, 유의한 이상치가 있는지 등을 알 수 있습니다. \n",
    "- 이러한 질문에 대한 답이 다른 변수로 정의된 하위 집합에서 달라지는지 여부도 파악할 수 있습니다."
   ]
  },
  {
   "cell_type": "markdown",
   "id": "935c7e71",
   "metadata": {},
   "source": [
    "- 분포 모듈에는 이러한 질문에 대답하기 위해 설계된 여러 함수들이 포함되어 있습니다. \n",
    "- axes 레벨 함수는 histplot(), kdeplot(), ecdfplot(), rugplot()입니다. \n",
    "- 이러한 함수들은 figure 레벨 displot(), jointplot(), pairplot() 함수 내에서 그룹화됩니다.\n",
    "- 분포를 시각화하는 몇 가지 다른 접근 방식이 있으며, 각각의 상대적인 장단점이 있습니다. \n",
    "- 특정 목적에 가장 적합한 접근 방식을 선택할 수 있도록 이러한 요소를 이해하는 것이 중요합니다."
   ]
  },
  {
   "cell_type": "code",
   "execution_count": null,
   "id": "f6e0cfb1",
   "metadata": {},
   "outputs": [],
   "source": []
  },
  {
   "cell_type": "code",
   "execution_count": null,
   "id": "526c5583",
   "metadata": {},
   "outputs": [],
   "source": []
  },
  {
   "cell_type": "code",
   "execution_count": null,
   "id": "5d73df63",
   "metadata": {},
   "outputs": [],
   "source": []
  }
 ],
 "metadata": {
  "kernelspec": {
   "display_name": "Python 3 (ipykernel)",
   "language": "python",
   "name": "python3"
  },
  "language_info": {
   "codemirror_mode": {
    "name": "ipython",
    "version": 3
   },
   "file_extension": ".py",
   "mimetype": "text/x-python",
   "name": "python",
   "nbconvert_exporter": "python",
   "pygments_lexer": "ipython3",
   "version": "3.9.13"
  },
  "toc": {
   "base_numbering": 1,
   "nav_menu": {},
   "number_sections": true,
   "sideBar": true,
   "skip_h1_title": false,
   "title_cell": "Table of Contents",
   "title_sidebar": "Contents",
   "toc_cell": false,
   "toc_position": {},
   "toc_section_display": true,
   "toc_window_display": false
  }
 },
 "nbformat": 4,
 "nbformat_minor": 5
}
