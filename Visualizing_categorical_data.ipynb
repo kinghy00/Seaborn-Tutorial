{
 "cells": [
  {
   "cell_type": "code",
   "execution_count": 1,
   "id": "7c20ca22",
   "metadata": {},
   "outputs": [],
   "source": [
    "import numpy as np\n",
    "import pandas as pd\n",
    "import seaborn as sns\n",
    "import matplotlib as mpl\n",
    "import plotly.express as px\n",
    "import seaborn.objects as so\n",
    "import matplotlib.pyplot as plt\n",
    "\n",
    "sns.set_theme(style=\"darkgrid\")\n",
    "tips = sns.load_dataset(\"tips\")\n",
    "dots = sns.load_dataset(\"dots\")\n",
    "fmri = sns.load_dataset(\"fmri\")\n",
    "flights = sns.load_dataset(\"flights\")\n",
    "dowjones = sns.load_dataset(\"dowjones\")\n",
    "anagrams = sns.load_dataset(\"anagrams\")\n",
    "penguins = sns.load_dataset(\"penguins\")\n",
    "diamonds = sns.load_dataset(\"diamonds\")\n",
    "healthexp = sns.load_dataset(\"healthexp\")\n",
    "healthexp = sns.load_dataset(\"healthexp\").sort_values(\"Year\")\n",
    "flights_wide = flights.pivot(index=\"year\", columns=\"month\", values=\"passengers\")"
   ]
  },
  {
   "cell_type": "markdown",
   "id": "5bd33a1d",
   "metadata": {},
   "source": [
    "# Visualizing categorical data"
   ]
  },
  {
   "cell_type": "markdown",
   "id": "d83332fb",
   "metadata": {},
   "source": [
    "- relational 플롯 튜토리얼에서는 데이터 집합의 여러 변수 간의 관계를 나타내는 다른 시각적 표현 방법을 사용하는 방법을 살펴 보았습니다. \n",
    "- 예제에서는 주로 두 개의 수치 변수 간의 주요 관계에 초점을 맞추었습니다. \n",
    "- 그러나 주요 변수 중 하나가 \"범주형\" (이산 그룹으로 분할 된)인 경우 시각화를 위해 더 특화된 접근 방법을 사용하는 것이 도움이 될 수 있습니다."
   ]
  },
  {
   "cell_type": "markdown",
   "id": "3f36ff98",
   "metadata": {},
   "source": [
    "- Seaborn에서 범주형 데이터를 포함한 관계를 시각화하는 다양한 방법이 있습니다. \n",
    "- relplot()과 scatterplot() 또는 lineplot()의 관계와 유사하게, 이러한 플롯을 만드는 두 가지 방법이 있습니다. \n",
    "- 다양한 방법으로 범주형 데이터를 시각화하는 축 수준 함수와 이러한 함수에 통합된 고수준 인터페이스인 catplot()이 있습니다."
   ]
  },
  {
   "cell_type": "markdown",
   "id": "7348158b",
   "metadata": {},
   "source": [
    "- 다른 카테고리 플롯 종류를 세 가지 그룹으로 생각하는 것이 도움이 됩니다. \n",
    "- 이에 대해 자세히 설명하겠습니다. 이들은 다음과 같습니다."
   ]
  },
  {
   "cell_type": "markdown",
   "id": "3e2472f9",
   "metadata": {},
   "source": [
    "- Categorical scatterplots:\n",
    "\n",
    "    - stripplot() (with kind=\"strip\"; the default)\n",
    "\n",
    "    - swarmplot() (with kind=\"swarm\")"
   ]
  },
  {
   "cell_type": "markdown",
   "id": "20fb713d",
   "metadata": {},
   "source": [
    "- Categorical distribution plots:\n",
    "\n",
    "    - boxplot() (with kind=\"box\")\n",
    "\n",
    "    - violinplot() (with kind=\"violin\")\n",
    "\n",
    "    - boxenplot() (with kind=\"boxen\")"
   ]
  },
  {
   "cell_type": "markdown",
   "id": "e4e1eade",
   "metadata": {},
   "source": [
    "- Categorical estimate plots:\n",
    "\n",
    "    - pointplot() (with kind=\"point\")\n",
    "\n",
    "    - barplot() (with kind=\"bar\")\n",
    "\n",
    "    - countplot() (with kind=\"count\")"
   ]
  },
  {
   "cell_type": "markdown",
   "id": "fdd44c3e",
   "metadata": {},
   "source": [
    "- 이러한 그룹들은 데이터를 서로 다른 세부 수준으로 나타냅니다. \n",
    "- 사용할 플롯을 결정할 때, 답변하려는 질문을 생각해야 합니다. \n",
    "- 통합 API를 사용하면 다양한 종류의 플롯에서 데이터를 쉽게 전환하고 여러 관점에서 데이터를 볼 수 있습니다."
   ]
  },
  {
   "cell_type": "markdown",
   "id": "2625a96a",
   "metadata": {},
   "source": [
    "- 이 튜토리얼에서는 주로 고수준 인터페이스인 catplot()에 초점을 맞춥니다. \n",
    "- 이 함수는 위의 각 함수의 고수준 인터페이스이므로 각 플롯별 더 상세한 API 문서를 참조하면서 각 종류의 플롯을 보여줄 때 이들을 참조할 것입니다."
   ]
  },
  {
   "cell_type": "code",
   "execution_count": null,
   "id": "3d3ba6c3",
   "metadata": {},
   "outputs": [],
   "source": []
  }
 ],
 "metadata": {
  "kernelspec": {
   "display_name": "Python 3 (ipykernel)",
   "language": "python",
   "name": "python3"
  },
  "language_info": {
   "codemirror_mode": {
    "name": "ipython",
    "version": 3
   },
   "file_extension": ".py",
   "mimetype": "text/x-python",
   "name": "python",
   "nbconvert_exporter": "python",
   "pygments_lexer": "ipython3",
   "version": "3.9.13"
  },
  "toc": {
   "base_numbering": 1,
   "nav_menu": {},
   "number_sections": true,
   "sideBar": true,
   "skip_h1_title": false,
   "title_cell": "Table of Contents",
   "title_sidebar": "Contents",
   "toc_cell": false,
   "toc_position": {},
   "toc_section_display": true,
   "toc_window_display": false
  }
 },
 "nbformat": 4,
 "nbformat_minor": 5
}
